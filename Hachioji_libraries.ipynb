{
  "nbformat": 4,
  "nbformat_minor": 0,
  "metadata": {
    "colab": {
      "provenance": [],
      "authorship_tag": "ABX9TyMAn9LFq6ZXDI1CRzN4vm5z",
      "include_colab_link": true
    },
    "kernelspec": {
      "name": "python3",
      "display_name": "Python 3"
    },
    "language_info": {
      "name": "python"
    }
  },
  "cells": [
    {
      "cell_type": "markdown",
      "metadata": {
        "id": "view-in-github",
        "colab_type": "text"
      },
      "source": [
        "<a href=\"https://colab.research.google.com/github/iiojun/GDHP/blob/master/Hachioji_libraries.ipynb\" target=\"_parent\"><img src=\"https://colab.research.google.com/assets/colab-badge.svg\" alt=\"Open In Colab\"/></a>"
      ]
    },
    {
      "cell_type": "markdown",
      "source": [
        "データをダウンロードする"
      ],
      "metadata": {
        "id": "NxyBPYdRznO1"
      }
    },
    {
      "cell_type": "code",
      "execution_count": null,
      "metadata": {
        "id": "zJSuyCJrvOXM"
      },
      "outputs": [],
      "source": [
        "!wget https://www.iiojun.com/iDS/2023/hachimap.kml\n",
        "!wget https://www.iiojun.com/iDS/2023/libraries.kml\n",
        "!wget https://www.iiojun.com/iDS/2023/R04registers.xlsx\n"
      ]
    },
    {
      "cell_type": "markdown",
      "source": [
        "GeoPandas のインストール"
      ],
      "metadata": {
        "id": "3hZWr8n6zu6x"
      }
    },
    {
      "cell_type": "code",
      "source": [
        "!pip install geopandas\n"
      ],
      "metadata": {
        "id": "nVw5eKTKzHim"
      },
      "execution_count": null,
      "outputs": []
    },
    {
      "cell_type": "markdown",
      "source": [
        "モジュールの読み込み"
      ],
      "metadata": {
        "id": "hwfCAjRc0SyO"
      }
    },
    {
      "cell_type": "code",
      "source": [
        "import geopandas as gpd\n",
        "import fiona\n",
        "import folium\n",
        "import matplotlib.pyplot as plt\n",
        "from fiona.drvsupport import supported_drivers\n"
      ],
      "metadata": {
        "id": "QS_wETK70UJT"
      },
      "execution_count": null,
      "outputs": []
    },
    {
      "cell_type": "markdown",
      "source": [
        "データの読み込み"
      ],
      "metadata": {
        "id": "1zFZQxej0iBw"
      }
    },
    {
      "cell_type": "code",
      "source": [
        "supported_drivers['KML'] = 'rw'\n",
        "df = gpd.read_file('hachimap.kml', driver='KML')\n",
        "df.head()\n",
        "df"
      ],
      "metadata": {
        "id": "Pi5kxbMo0gL3"
      },
      "execution_count": null,
      "outputs": []
    },
    {
      "cell_type": "markdown",
      "source": [
        "おためしプロット"
      ],
      "metadata": {
        "id": "oP8ft5a10yrZ"
      }
    },
    {
      "cell_type": "code",
      "source": [
        "df.plot(figsize=(12,12))\n",
        "plt.show()\n"
      ],
      "metadata": {
        "id": "-eEKb1-w0z8b"
      },
      "execution_count": null,
      "outputs": []
    },
    {
      "cell_type": "markdown",
      "source": [
        "地図の表示"
      ],
      "metadata": {
        "id": "eYH8jYrL0_iv"
      }
    },
    {
      "cell_type": "code",
      "source": [
        "m = folium.Map(location=[35.66, 139.28], zoom_start=12, tiles='openstreetmap',\n",
        "                zoom_control=False, scrollWheelZoom=False, dragging=False)\n",
        "m\n"
      ],
      "metadata": {
        "id": "BD5jFzUW1A45"
      },
      "execution_count": null,
      "outputs": []
    },
    {
      "cell_type": "markdown",
      "source": [
        "町丁目区画を重ねて表示する"
      ],
      "metadata": {
        "id": "6OCUWYHX1KRU"
      }
    },
    {
      "cell_type": "code",
      "source": [
        "for _, r in df.iterrows():\n",
        "  sim_geo = gpd.GeoSeries(r['geometry'])\n",
        "  geo_j = sim_geo.to_json()\n",
        "  geo_j = folium.GeoJson(data=geo_j,\n",
        "        style_function=lambda x: {'fillColor': 'grey', 'color': 'grey',\n",
        "          'weight': 0.5, 'fill_opacity': 0.3, 'line_opacity': 0.1 })\n",
        "  folium.Popup(r['Name']).add_to(geo_j)\n",
        "  geo_j.add_to(m)\n",
        "\n",
        "m"
      ],
      "metadata": {
        "id": "O8yWKqni1QQr"
      },
      "execution_count": null,
      "outputs": []
    },
    {
      "cell_type": "markdown",
      "source": [
        "図書館の位置を読み込む"
      ],
      "metadata": {
        "id": "IYisET1A2k9L"
      }
    },
    {
      "cell_type": "code",
      "source": [
        "import pandas as pd\n",
        "df_libs = gpd.read_file('libraries.kml', driver='KML')\n",
        "df_libs\n"
      ],
      "metadata": {
        "id": "E-wpN3RW2oBN"
      },
      "execution_count": null,
      "outputs": []
    },
    {
      "cell_type": "markdown",
      "source": [
        "地図上に表示する"
      ],
      "metadata": {
        "id": "51IsG2C3--QY"
      }
    },
    {
      "cell_type": "code",
      "source": [
        "for _, row in df_libs.iterrows():\n",
        "  folium.Marker(location=[row['geometry'].y, row['geometry'].x], popup=row['Name']).add_to(m)\n",
        "m"
      ],
      "metadata": {
        "id": "y2mdlS3w--sF"
      },
      "execution_count": null,
      "outputs": []
    },
    {
      "cell_type": "markdown",
      "source": [
        "マーカーを小さいものにする．地図を描くところからやり直し"
      ],
      "metadata": {
        "id": "bz9pgdmjwr0M"
      }
    },
    {
      "cell_type": "code",
      "source": [
        "m = folium.Map(location=[35.66, 139.30], zoom_start=12, tiles='openstreetmap',\n",
        "                zoom_control=False, scrollWheelZoom=False, dragging=False)\n",
        "\n",
        "for _, r in df.iterrows():\n",
        "  sim_geo = gpd.GeoSeries(r['geometry'])\n",
        "  geo_j = sim_geo.to_json()\n",
        "  geo_j = folium.GeoJson(data=geo_j,\n",
        "               style_function=lambda x: {'fillColor': 'grey', 'color': 'grey',\n",
        "                                          'weight': 0.5, 'fill_opacity': 0.3,\n",
        "                                          'line_opacity': 0.1 })\n",
        "  folium.Popup(r['Name']).add_to(geo_j)\n",
        "  geo_j.add_to(m)\n",
        "\n",
        "for _, row in df_libs.iterrows():\n",
        "  folium.CircleMarker(\n",
        "        location=[row['geometry'].y, row['geometry'].x],\n",
        "        radius=4, color='red', fill_color='red', weight=3\n",
        "  ).add_to(m)\n",
        "m\n"
      ],
      "metadata": {
        "id": "YyleL6yX_o6r"
      },
      "execution_count": null,
      "outputs": []
    },
    {
      "cell_type": "markdown",
      "source": [
        "R04registers.xlsx を読み込む"
      ],
      "metadata": {
        "id": "F_NWQ1emwzhG"
      }
    },
    {
      "cell_type": "code",
      "source": [
        "df_reg = pd.read_excel('R04registers.xlsx')\n",
        "df_reg"
      ],
      "metadata": {
        "id": "899j_QVtw2lH"
      },
      "execution_count": null,
      "outputs": []
    },
    {
      "cell_type": "markdown",
      "source": [
        "まず，区内だけ抽出"
      ],
      "metadata": {
        "id": "JX2V8-0UydB-"
      }
    },
    {
      "cell_type": "code",
      "source": [
        "df_reg = df_reg[df_reg['市内市外区分'] == '区内']\n",
        "df_reg"
      ],
      "metadata": {
        "id": "_F0nO_rCygYw"
      },
      "execution_count": null,
      "outputs": []
    },
    {
      "cell_type": "markdown",
      "source": [
        "おや？ 204 rows あるぞ？ 199 rows ちゃうんか？\n",
        "抽出して比べてみる"
      ],
      "metadata": {
        "id": "nHohz6LMziWO"
      }
    },
    {
      "cell_type": "code",
      "source": [
        "set1 = set(df['Name'])\n",
        "set2 = set(df_reg['地区'])\n",
        "questionnables = set2 - set1\n",
        "questionnables"
      ],
      "metadata": {
        "id": "NlrtgkV2zrSd"
      },
      "execution_count": null,
      "outputs": []
    },
    {
      "cell_type": "markdown",
      "source": [
        "修正をかける．\n",
        "\n",
        "堀之内一丁目, 鑓水一丁目, 高嶺町は単純に削除でOK\n",
        "\n",
        "別所と南大沢は，それぞれ別所一丁目，南大沢一丁目に足し合わせる？\n",
        "\n",
        "とりあえず全部ドロップしちゃうか……"
      ],
      "metadata": {
        "id": "kbjPMODQ5yAe"
      }
    },
    {
      "cell_type": "code",
      "source": [
        "df_reg = df_reg[~df_reg['地区'].isin(questionnables)]\n",
        "df_reg"
      ],
      "metadata": {
        "id": "sVUxZhrB5z2L"
      },
      "execution_count": null,
      "outputs": []
    },
    {
      "cell_type": "markdown",
      "source": [
        "ひとつの図書館だけ抜粋"
      ],
      "metadata": {
        "id": "T2mUOdPYDW36"
      }
    },
    {
      "cell_type": "code",
      "source": [
        "target = '南大沢'\n",
        "df_l = df_reg[['地区', target]]\n",
        "df_l = df_l.rename(columns = {'地区': 'Name', target: 'Users'})\n",
        "df_l"
      ],
      "metadata": {
        "id": "DLTVsRlCDYu7"
      },
      "execution_count": null,
      "outputs": []
    },
    {
      "cell_type": "code",
      "source": [
        "df1 = pd.merge(df.drop('Description', axis=1), df_l, on='Name')\n",
        "df1"
      ],
      "metadata": {
        "id": "QPRUFl0bDpX4"
      },
      "execution_count": null,
      "outputs": []
    },
    {
      "cell_type": "markdown",
      "source": [
        "登録者数の最大値を求める"
      ],
      "metadata": {
        "id": "WAgtJtI_FnGx"
      }
    },
    {
      "cell_type": "code",
      "source": [
        "max_users = max(df1['Users'])\n",
        "max_users"
      ],
      "metadata": {
        "id": "o-r7IX3AFqJa"
      },
      "execution_count": null,
      "outputs": []
    },
    {
      "cell_type": "markdown",
      "source": [
        "df1のUsersを最大値で割って正規化する"
      ],
      "metadata": {
        "id": "LQ8wseLEGFCk"
      }
    },
    {
      "cell_type": "code",
      "source": [
        "df1['Ratio'] = df1['Users'].apply(lambda x: 100 * float(x) / max_users)\n",
        "df1"
      ],
      "metadata": {
        "id": "Rf9mwyf4GKSp"
      },
      "execution_count": null,
      "outputs": []
    },
    {
      "cell_type": "markdown",
      "source": [
        "Ratioに応じた色を返す関数を定義する"
      ],
      "metadata": {
        "id": "xqRqvJ6lHyu0"
      }
    },
    {
      "cell_type": "code",
      "source": [
        "def rcolor(x): # x should be a value between 0 to 100\n",
        "  n = int(2.55*x)\n",
        "  if n > 255: n = 255\n",
        "  return f'#{n:02x}4400'"
      ],
      "metadata": {
        "id": "jNrvv05EQz0l"
      },
      "execution_count": null,
      "outputs": []
    },
    {
      "cell_type": "markdown",
      "source": [
        "スタイル関数を定義する"
      ],
      "metadata": {
        "id": "ylXPeWRLZpvu"
      }
    },
    {
      "cell_type": "code",
      "source": [
        "def styles(x):\n",
        "  c = x['properties']['color']\n",
        "  return {'fillColor': c, 'color': c, 'fillOpacity': 0.5, 'opacity': 0.7, 'weight': 0.5 }"
      ],
      "metadata": {
        "id": "40BVlSdrZou2"
      },
      "execution_count": null,
      "outputs": []
    },
    {
      "cell_type": "markdown",
      "source": [
        "とりあえず地図に描いてみる"
      ],
      "metadata": {
        "id": "mO_0FhzRgBlu"
      }
    },
    {
      "cell_type": "code",
      "source": [
        "import json\n",
        "\n",
        "m = folium.Map(location=[35.66, 139.30], zoom_start=12, tiles='stamenterrain',\n",
        "                zoom_control=False, scrollWheelZoom=False, dragging=False)\n",
        "                # to disable zoom, scroll, and dragging functions\n",
        "\n",
        "for _, r in df1.iterrows():\n",
        "  sim_geo = gpd.GeoSeries(r['geometry'])\n",
        "  geo_j = sim_geo.to_json()\n",
        "  data = json.loads(geo_j)\n",
        "  data['features'][0]['properties'] = {'color': rcolor(r['Ratio'])}\n",
        "  geo_j = json.dumps(data)\n",
        "  geo_j = folium.GeoJson(data=geo_j, style_function=lambda x: styles(x))\n",
        "  geo_j.add_to(m)\n",
        "\n",
        "for _, row in df_libs.iterrows():\n",
        "  c = 'red' if row['Description'] == target else 'yellow'\n",
        "  folium.CircleMarker(\n",
        "        location=[row['geometry'].y, row['geometry'].x],\n",
        "        radius=4, color=c, fill_color=c, weight=3\n",
        "  ).add_to(m)\n",
        "m"
      ],
      "metadata": {
        "id": "OU0qwyFCFgct"
      },
      "execution_count": null,
      "outputs": []
    },
    {
      "cell_type": "markdown",
      "source": [
        "関数にまとめる"
      ],
      "metadata": {
        "id": "7kWpysvaMiPi"
      }
    },
    {
      "cell_type": "code",
      "source": [
        "def mk_map(target):\n",
        "  df_l = df_reg[['地区', target]]\n",
        "  df_l = df_l.rename(columns = {'地区': 'Name', target: 'Users'})\n",
        "  df1 = pd.merge(df.drop('Description', axis=1), df_l, on='Name')\n",
        "  max_users = max(df1['Users'])\n",
        "  df1['Ratio'] = df1['Users'].apply(lambda x: 100 * float(x) / max_users)\n",
        "  m = folium.Map(location=[35.66, 139.30], zoom_start=12, tiles='stamenterrain',\n",
        "                zoom_control=False, scrollWheelZoom=False, dragging=False)\n",
        "\n",
        "  for _, r in df1.iterrows():\n",
        "    sim_geo = gpd.GeoSeries(r['geometry'])\n",
        "    geo_j = sim_geo.to_json()\n",
        "    data = json.loads(geo_j)\n",
        "    data['features'][0]['properties'] = {'color': rcolor(r['Ratio'])}\n",
        "    geo_j = json.dumps(data)\n",
        "    geo_j = folium.GeoJson(data=geo_j, style_function=lambda x: styles(x))\n",
        "    geo_j.add_to(m)\n",
        "\n",
        "  for _, row in df_libs.iterrows():\n",
        "    c = 'red' if row['Description'] == target else 'yellow'\n",
        "    folium.CircleMarker(\n",
        "        location=[row['geometry'].y, row['geometry'].x],\n",
        "        radius=4, color=c, fill_color=c, weight=3\n",
        "    ).add_to(m)\n",
        "\n",
        "  m.save(f'map_{target}.html')"
      ],
      "metadata": {
        "id": "lZY_EVkRMj1o"
      },
      "execution_count": null,
      "outputs": []
    },
    {
      "cell_type": "markdown",
      "source": [
        "全ての図書館についての図を作る"
      ],
      "metadata": {
        "id": "e45EYs07N3rZ"
      }
    },
    {
      "cell_type": "code",
      "source": [
        "for d in df_libs['Description']:\n",
        "  print(f'making a map: {d} ... ', end='')\n",
        "  mk_map(d)\n",
        "  print('done')"
      ],
      "metadata": {
        "id": "7JqIP9fhRyR1"
      },
      "execution_count": null,
      "outputs": []
    },
    {
      "cell_type": "markdown",
      "source": [
        "ダウンロード用にzipでまとめる"
      ],
      "metadata": {
        "id": "he7HF6WWdcvi"
      }
    },
    {
      "cell_type": "code",
      "source": [
        "!zip maps.zip map_*.html"
      ],
      "metadata": {
        "id": "w9RPeb2vdd5j"
      },
      "execution_count": null,
      "outputs": []
    }
  ]
}